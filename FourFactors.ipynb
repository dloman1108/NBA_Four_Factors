{
 "metadata": {
  "name": "",
  "signature": "sha256:b12801937f8768e82e5efb0e69e505ab469e361a1ad830a7af213fe2ad81f53a"
 },
 "nbformat": 3,
 "nbformat_minor": 0,
 "worksheets": [
  {
   "cells": [
    {
     "cell_type": "code",
     "collapsed": false,
     "input": [
      "#Import packages\n",
      "from bs4 import BeautifulSoup\n",
      "import numpy as np\n",
      "import pandas as pd\n",
      "import urllib2\n",
      "import re\n",
      "import sklearn"
     ],
     "language": "python",
     "metadata": {},
     "outputs": [],
     "prompt_number": 3
    },
    {
     "cell_type": "code",
     "collapsed": false,
     "input": [
      "filepath = '/Users/DanLo1108/Documents/Projects/NBA Analysis/'"
     ],
     "language": "python",
     "metadata": {},
     "outputs": [],
     "prompt_number": 5
    },
    {
     "cell_type": "code",
     "collapsed": false,
     "input": [
      "url_list=[]\n",
      "for i in range(1,21):\n",
      "    url = \"http://www.nbaminer.com/nbaminer_nbaminer/four_factors.php?operation=eexcel&partitionpage=\"+str(i)+\"&partition2page=1\"  \n",
      "    url_list.append(url)"
     ],
     "language": "python",
     "metadata": {},
     "outputs": [],
     "prompt_number": 3
    },
    {
     "cell_type": "code",
     "collapsed": false,
     "input": [
      "#Gets contents of url web page\n",
      "request=urllib2.Request(url)\n",
      "page = urllib2.urlopen(request)"
     ],
     "language": "python",
     "metadata": {},
     "outputs": [],
     "prompt_number": 4
    },
    {
     "cell_type": "code",
     "collapsed": false,
     "input": [
      "#Reads contents of page\n",
      "content=page.read()\n",
      "soup=BeautifulSoup(content,'lxml')"
     ],
     "language": "python",
     "metadata": {},
     "outputs": [],
     "prompt_number": 5
    },
    {
     "cell_type": "code",
     "collapsed": false,
     "input": [
      "table=soup.find_all('table')"
     ],
     "language": "python",
     "metadata": {},
     "outputs": [],
     "prompt_number": 6
    },
    {
     "cell_type": "code",
     "collapsed": false,
     "input": [
      "results=table[0].find_all('td')"
     ],
     "language": "python",
     "metadata": {},
     "outputs": [],
     "prompt_number": 7
    },
    {
     "cell_type": "code",
     "collapsed": false,
     "input": [
      "#Creates dictionary of data\n",
      "ff_dict = {'Team': [],\n",
      "           'Off_Eff_FGperc': [],\n",
      "           'Def_Eff_FGperc': [],\n",
      "           'Off_FTRate': [],\n",
      "           'Def_FTRate': [],\n",
      "           'Off_TORate': [],\n",
      "           'Def_TORate': [],\n",
      "           'Off_ORRate': [],\n",
      "           'Def_ORRate': [],\n",
      "           'Wins': [],\n",
      "           'Year': [],\n",
      "           'Games': []}"
     ],
     "language": "python",
     "metadata": {},
     "outputs": [],
     "prompt_number": 8
    },
    {
     "cell_type": "code",
     "collapsed": false,
     "input": [
      "#Appends data to dictionary\n",
      "count = 0\n",
      "for item in results[14:]:\n",
      "    count += 1\n",
      "    if np.mod(count,14) == 1:\n",
      "        ff_dict['Team'].append(item.string)\n",
      "    if np.mod(count,14) == 2:\n",
      "        ff_dict['Off_Eff_FGperc'].append(float(item.string))\n",
      "    if np.mod(count,14) == 3:\n",
      "        ff_dict['Def_Eff_FGperc'].append(float(item.string))\n",
      "    if np.mod(count,14) == 4:\n",
      "        ff_dict['Off_FTRate'].append(float(item.string))\n",
      "    if np.mod(count,14) == 5:\n",
      "        ff_dict['Def_FTRate'].append(float(item.string))\n",
      "    if np.mod(count,14) == 6:\n",
      "        ff_dict['Off_TORate'].append(float(item.string))\n",
      "    if np.mod(count,14) == 7:\n",
      "        ff_dict['Def_TORate'].append(float(item.string))\n",
      "    if np.mod(count,14) == 8:\n",
      "        ff_dict['Off_ORRate'].append(float(item.string))\n",
      "    if np.mod(count,14) == 9:\n",
      "        ff_dict['Def_ORRate'].append(float(item.string))\n",
      "    if np.mod(count,14) == 10:\n",
      "        ff_dict['Wins'].append(float(item.string))\n",
      "    if np.mod(count,14) == 12:\n",
      "        ff_dict['Year'].append(item.string)\n",
      "    if np.mod(count,14) == 0:\n",
      "        ff_dict['Games'].append(float(item.string))"
     ],
     "language": "python",
     "metadata": {},
     "outputs": [],
     "prompt_number": 9
    },
    {
     "cell_type": "code",
     "collapsed": false,
     "input": [
      "#Creates dataframe\n",
      "Four_Factors = pd.DataFrame()\n",
      "for key in ff_dict:\n",
      "    Four_Factors[key] = ff_dict[key]"
     ],
     "language": "python",
     "metadata": {},
     "outputs": [],
     "prompt_number": 10
    },
    {
     "cell_type": "code",
     "collapsed": false,
     "input": [
      "def get_wins_82(x):\n",
      "    return x.Wins/x.Games*82\n",
      "\n",
      "Four_Factors['wins_82'] = Four_Factors.apply(lambda x: get_wins_82(x), axis=1)"
     ],
     "language": "python",
     "metadata": {},
     "outputs": [],
     "prompt_number": 11
    },
    {
     "cell_type": "code",
     "collapsed": false,
     "input": [
      "Four_Factors = Four_Factors[['Team','Year','Off_Eff_FGperc','Off_ORRate','Off_TORate',\n",
      "                            'Off_FTRate','Def_Eff_FGperc','Def_ORRate','Def_TORate',\n",
      "                            'Def_FTRate','wins_82']]"
     ],
     "language": "python",
     "metadata": {},
     "outputs": [],
     "prompt_number": 12
    },
    {
     "cell_type": "code",
     "collapsed": false,
     "input": [
      "Four_Factors.to_csv(filepath+'Four_Factors_data.csv',index=False)"
     ],
     "language": "python",
     "metadata": {},
     "outputs": [],
     "prompt_number": 14
    },
    {
     "cell_type": "code",
     "collapsed": false,
     "input": [
      "Four_Factors = pd.read_csv(filepath+'Four_Factors_data.csv')"
     ],
     "language": "python",
     "metadata": {},
     "outputs": [],
     "prompt_number": 6
    },
    {
     "cell_type": "code",
     "collapsed": false,
     "input": [
      "#Creates X and y\n",
      "X = Four_Factors[['Off_Eff_FGperc','Off_ORRate','Off_TORate',\n",
      "                 'Off_FTRate','Def_Eff_FGperc','Def_ORRate','Def_TORate',\n",
      "                 'Def_FTRate']]\n",
      "\n",
      "y = Four_Factors['wins_82']"
     ],
     "language": "python",
     "metadata": {},
     "outputs": [],
     "prompt_number": 4
    },
    {
     "cell_type": "code",
     "collapsed": false,
     "input": [
      "#Runs linear regression and finds MAE (2.54)\n",
      "\n",
      "from sklearn.cross_validation import train_test_split\n",
      "from sklearn.linear_model import LinearRegression\n",
      "from sklearn.ensemble import RandomForestClassifier\n",
      "\n",
      "maes=[]\n",
      "for i in range(10):\n",
      "    X_train, X_test, y_train, y_test = train_test_split(X, y, test_size=0.10)\n",
      "    linreg = LinearRegression()\n",
      "    linreg.fit(X_train,y_train)\n",
      "    pred = linreg.predict(X_test)\n",
      "\n",
      "    maes.append(np.mean(abs(pred-y_test)))\n",
      "    \n",
      "print np.mean(maes)"
     ],
     "language": "python",
     "metadata": {},
     "outputs": [
      {
       "output_type": "stream",
       "stream": "stdout",
       "text": [
        "2.55256768585\n"
       ]
      }
     ],
     "prompt_number": 16
    },
    {
     "cell_type": "code",
     "collapsed": false,
     "input": [
      "#Finds mean and standard deviation of 4 factors\n",
      "ave_Off_Eff_FGperc = np.mean(X.Off_Eff_FGperc)\n",
      "ave_Off_ORRate = np.mean(X.Off_ORRate)\n",
      "ave_Off_TORate = np.mean(X.Off_TORate)\n",
      "ave_Off_FTRate = np.mean(X.Off_FTRate)\n",
      "ave_Def_Eff_FGperc = np.mean(X.Def_Eff_FGperc)\n",
      "ave_Def_ORRate = np.mean(X.Def_ORRate)\n",
      "ave_Def_TORate = np.mean(X.Def_TORate)\n",
      "ave_Def_FTRate = np.mean(X.Def_FTRate)\n",
      "\n",
      "std_Off_Eff_FGperc = np.std(X.Off_Eff_FGperc)\n",
      "std_Off_ORRate = np.std(X.Off_ORRate)\n",
      "std_Off_TORate = np.std(X.Off_TORate)\n",
      "std_Off_FTRate = np.std(X.Off_FTRate)\n",
      "std_Def_Eff_FGperc = np.std(X.Def_Eff_FGperc)\n",
      "std_Def_ORRate = np.std(X.Def_ORRate)\n",
      "std_Def_TORate = np.std(X.Def_TORate)\n",
      "std_Def_FTRate = np.std(X.Def_FTRate)\n",
      "\n",
      "\n",
      "#Predicts 41 wins with average stats\n",
      "linreg.predict(np.array([ave_Off_Eff_FGperc,ave_Off_ORRate,ave_Off_TORate,\n",
      "                         ave_Off_FTRate,ave_Def_Eff_FGperc,ave_Def_ORRate,\n",
      "                         ave_Def_TORate,ave_Def_FTRate]))"
     ],
     "language": "python",
     "metadata": {},
     "outputs": [
      {
       "metadata": {},
       "output_type": "pyout",
       "prompt_number": 17,
       "text": [
        "41.046288278356968"
       ]
      }
     ],
     "prompt_number": 17
    },
    {
     "cell_type": "code",
     "collapsed": false,
     "input": [
      "#Gets data from this year\n",
      "this_year=Four_Factors[Four_Factors.Year=='2014-2015']"
     ],
     "language": "python",
     "metadata": {},
     "outputs": [],
     "prompt_number": 18
    },
    {
     "cell_type": "code",
     "collapsed": false,
     "input": [
      "#Predicts wins based on Four Factors stats\n",
      "teams=this_year.Team\n",
      "this_year_X=this_year[['Off_Eff_FGperc','Off_ORRate','Off_TORate','Off_FTRate',\n",
      "                       'Def_Eff_FGperc','Def_ORRate','Def_TORate','Def_FTRate']]\n",
      "wins=this_year.wins_82\n",
      "wins_pred=linreg.predict(this_year_X)"
     ],
     "language": "python",
     "metadata": {},
     "outputs": [],
     "prompt_number": 19
    },
    {
     "cell_type": "code",
     "collapsed": false,
     "input": [
      "#Normalize so that sum of predicted wins = 1230 \n",
      "#(avg of 41 wins for 30 teams) and round\n",
      "\n",
      "wins_pred=(wins_pred/sum(wins_pred))*1230\n",
      "wins_pred=np.array(map(lambda x: round(x,2),wins_pred))\n",
      "wins_diff=wins-wins_pred\n",
      "wins_diff=np.array(map(lambda x: round(x,2),wins_diff))"
     ],
     "language": "python",
     "metadata": {},
     "outputs": [],
     "prompt_number": 20
    },
    {
     "cell_type": "code",
     "collapsed": false,
     "input": [
      "teams_analysis=pd.DataFrame({'Team': teams,'Predicted wins': wins_pred,'Actual wins': wins,\n",
      "                             'Difference': wins_diff})\n",
      "\n",
      "teams_analysis=teams_analysis[['Team','Predicted wins','Actual wins','Difference']]"
     ],
     "language": "python",
     "metadata": {},
     "outputs": [],
     "prompt_number": 21
    },
    {
     "cell_type": "code",
     "collapsed": false,
     "input": [
      "teams_analysis"
     ],
     "language": "python",
     "metadata": {},
     "outputs": [
      {
       "html": [
        "<div style=\"max-height:1000px;max-width:1500px;overflow:auto;\">\n",
        "<table border=\"1\" class=\"dataframe\">\n",
        "  <thead>\n",
        "    <tr style=\"text-align: right;\">\n",
        "      <th></th>\n",
        "      <th>Team</th>\n",
        "      <th>Predicted wins</th>\n",
        "      <th>Actual wins</th>\n",
        "      <th>Difference</th>\n",
        "    </tr>\n",
        "  </thead>\n",
        "  <tbody>\n",
        "    <tr>\n",
        "      <th>532</th>\n",
        "      <td>          Atlanta Hawks</td>\n",
        "      <td> 54.78</td>\n",
        "      <td> 60</td>\n",
        "      <td> 5.22</td>\n",
        "    </tr>\n",
        "    <tr>\n",
        "      <th>533</th>\n",
        "      <td>          Brooklyn Nets</td>\n",
        "      <td> 32.63</td>\n",
        "      <td> 38</td>\n",
        "      <td> 5.37</td>\n",
        "    </tr>\n",
        "    <tr>\n",
        "      <th>534</th>\n",
        "      <td>         Boston Celtics</td>\n",
        "      <td> 40.54</td>\n",
        "      <td> 40</td>\n",
        "      <td>-0.54</td>\n",
        "    </tr>\n",
        "    <tr>\n",
        "      <th>535</th>\n",
        "      <td>      Charlotte Hornets</td>\n",
        "      <td> 35.60</td>\n",
        "      <td> 33</td>\n",
        "      <td>-2.60</td>\n",
        "    </tr>\n",
        "    <tr>\n",
        "      <th>536</th>\n",
        "      <td>          Chicago Bulls</td>\n",
        "      <td> 48.50</td>\n",
        "      <td> 50</td>\n",
        "      <td> 1.50</td>\n",
        "    </tr>\n",
        "    <tr>\n",
        "      <th>537</th>\n",
        "      <td>    Cleveland Cavaliers</td>\n",
        "      <td> 49.76</td>\n",
        "      <td> 53</td>\n",
        "      <td> 3.24</td>\n",
        "    </tr>\n",
        "    <tr>\n",
        "      <th>538</th>\n",
        "      <td>       Dallas Mavericks</td>\n",
        "      <td> 49.61</td>\n",
        "      <td> 50</td>\n",
        "      <td> 0.39</td>\n",
        "    </tr>\n",
        "    <tr>\n",
        "      <th>539</th>\n",
        "      <td>         Denver Nuggets</td>\n",
        "      <td> 30.56</td>\n",
        "      <td> 30</td>\n",
        "      <td>-0.56</td>\n",
        "    </tr>\n",
        "    <tr>\n",
        "      <th>540</th>\n",
        "      <td>        Detroit Pistons</td>\n",
        "      <td> 39.27</td>\n",
        "      <td> 32</td>\n",
        "      <td>-7.27</td>\n",
        "    </tr>\n",
        "    <tr>\n",
        "      <th>541</th>\n",
        "      <td>  Golden State Warriors</td>\n",
        "      <td> 67.14</td>\n",
        "      <td> 67</td>\n",
        "      <td>-0.14</td>\n",
        "    </tr>\n",
        "    <tr>\n",
        "      <th>542</th>\n",
        "      <td>        Houston Rockets</td>\n",
        "      <td> 49.51</td>\n",
        "      <td> 56</td>\n",
        "      <td> 6.49</td>\n",
        "    </tr>\n",
        "    <tr>\n",
        "      <th>543</th>\n",
        "      <td>         Indiana Pacers</td>\n",
        "      <td> 40.52</td>\n",
        "      <td> 38</td>\n",
        "      <td>-2.52</td>\n",
        "    </tr>\n",
        "    <tr>\n",
        "      <th>544</th>\n",
        "      <td>   Los Angeles Clippers</td>\n",
        "      <td> 58.92</td>\n",
        "      <td> 56</td>\n",
        "      <td>-2.92</td>\n",
        "    </tr>\n",
        "    <tr>\n",
        "      <th>545</th>\n",
        "      <td>     Los Angeles Lakers</td>\n",
        "      <td> 24.02</td>\n",
        "      <td> 21</td>\n",
        "      <td>-3.02</td>\n",
        "    </tr>\n",
        "    <tr>\n",
        "      <th>546</th>\n",
        "      <td>      Memphis Grizzlies</td>\n",
        "      <td> 47.90</td>\n",
        "      <td> 55</td>\n",
        "      <td> 7.10</td>\n",
        "    </tr>\n",
        "    <tr>\n",
        "      <th>547</th>\n",
        "      <td>             Miami Heat</td>\n",
        "      <td> 35.54</td>\n",
        "      <td> 37</td>\n",
        "      <td> 1.46</td>\n",
        "    </tr>\n",
        "    <tr>\n",
        "      <th>548</th>\n",
        "      <td>        Milwaukee Bucks</td>\n",
        "      <td> 43.38</td>\n",
        "      <td> 41</td>\n",
        "      <td>-2.38</td>\n",
        "    </tr>\n",
        "    <tr>\n",
        "      <th>549</th>\n",
        "      <td> Minnesota Timberwolves</td>\n",
        "      <td> 18.67</td>\n",
        "      <td> 16</td>\n",
        "      <td>-2.67</td>\n",
        "    </tr>\n",
        "    <tr>\n",
        "      <th>550</th>\n",
        "      <td>   New Orleans Pelicans</td>\n",
        "      <td> 43.57</td>\n",
        "      <td> 45</td>\n",
        "      <td> 1.43</td>\n",
        "    </tr>\n",
        "    <tr>\n",
        "      <th>551</th>\n",
        "      <td>        New York Knicks</td>\n",
        "      <td> 17.21</td>\n",
        "      <td> 17</td>\n",
        "      <td>-0.21</td>\n",
        "    </tr>\n",
        "    <tr>\n",
        "      <th>552</th>\n",
        "      <td>  Oklahoma City Thunder</td>\n",
        "      <td> 44.38</td>\n",
        "      <td> 45</td>\n",
        "      <td> 0.62</td>\n",
        "    </tr>\n",
        "    <tr>\n",
        "      <th>553</th>\n",
        "      <td>          Orlando Magic</td>\n",
        "      <td> 27.35</td>\n",
        "      <td> 25</td>\n",
        "      <td>-2.35</td>\n",
        "    </tr>\n",
        "    <tr>\n",
        "      <th>554</th>\n",
        "      <td>     Philadelphia 76ers</td>\n",
        "      <td> 19.00</td>\n",
        "      <td> 18</td>\n",
        "      <td>-1.00</td>\n",
        "    </tr>\n",
        "    <tr>\n",
        "      <th>555</th>\n",
        "      <td>           Phoenix Suns</td>\n",
        "      <td> 38.84</td>\n",
        "      <td> 39</td>\n",
        "      <td> 0.16</td>\n",
        "    </tr>\n",
        "    <tr>\n",
        "      <th>556</th>\n",
        "      <td>  Portland Trailblazers</td>\n",
        "      <td> 48.41</td>\n",
        "      <td> 51</td>\n",
        "      <td> 2.59</td>\n",
        "    </tr>\n",
        "    <tr>\n",
        "      <th>557</th>\n",
        "      <td>       Sacramento Kings</td>\n",
        "      <td> 32.19</td>\n",
        "      <td> 29</td>\n",
        "      <td>-3.19</td>\n",
        "    </tr>\n",
        "    <tr>\n",
        "      <th>558</th>\n",
        "      <td>      San Antonio Spurs</td>\n",
        "      <td> 55.11</td>\n",
        "      <td> 55</td>\n",
        "      <td>-0.11</td>\n",
        "    </tr>\n",
        "    <tr>\n",
        "      <th>559</th>\n",
        "      <td>        Toronto Raptors</td>\n",
        "      <td> 47.88</td>\n",
        "      <td> 49</td>\n",
        "      <td> 1.12</td>\n",
        "    </tr>\n",
        "    <tr>\n",
        "      <th>560</th>\n",
        "      <td>              Utah Jazz</td>\n",
        "      <td> 43.74</td>\n",
        "      <td> 38</td>\n",
        "      <td>-5.74</td>\n",
        "    </tr>\n",
        "    <tr>\n",
        "      <th>561</th>\n",
        "      <td>     Washington Wizards</td>\n",
        "      <td> 45.47</td>\n",
        "      <td> 46</td>\n",
        "      <td> 0.53</td>\n",
        "    </tr>\n",
        "  </tbody>\n",
        "</table>\n",
        "</div>"
       ],
       "metadata": {},
       "output_type": "pyout",
       "prompt_number": 22,
       "text": [
        "                       Team  Predicted wins  Actual wins  Difference\n",
        "532           Atlanta Hawks           54.78           60        5.22\n",
        "533           Brooklyn Nets           32.63           38        5.37\n",
        "534          Boston Celtics           40.54           40       -0.54\n",
        "535       Charlotte Hornets           35.60           33       -2.60\n",
        "536           Chicago Bulls           48.50           50        1.50\n",
        "537     Cleveland Cavaliers           49.76           53        3.24\n",
        "538        Dallas Mavericks           49.61           50        0.39\n",
        "539          Denver Nuggets           30.56           30       -0.56\n",
        "540         Detroit Pistons           39.27           32       -7.27\n",
        "541   Golden State Warriors           67.14           67       -0.14\n",
        "542         Houston Rockets           49.51           56        6.49\n",
        "543          Indiana Pacers           40.52           38       -2.52\n",
        "544    Los Angeles Clippers           58.92           56       -2.92\n",
        "545      Los Angeles Lakers           24.02           21       -3.02\n",
        "546       Memphis Grizzlies           47.90           55        7.10\n",
        "547              Miami Heat           35.54           37        1.46\n",
        "548         Milwaukee Bucks           43.38           41       -2.38\n",
        "549  Minnesota Timberwolves           18.67           16       -2.67\n",
        "550    New Orleans Pelicans           43.57           45        1.43\n",
        "551         New York Knicks           17.21           17       -0.21\n",
        "552   Oklahoma City Thunder           44.38           45        0.62\n",
        "553           Orlando Magic           27.35           25       -2.35\n",
        "554      Philadelphia 76ers           19.00           18       -1.00\n",
        "555            Phoenix Suns           38.84           39        0.16\n",
        "556   Portland Trailblazers           48.41           51        2.59\n",
        "557        Sacramento Kings           32.19           29       -3.19\n",
        "558       San Antonio Spurs           55.11           55       -0.11\n",
        "559         Toronto Raptors           47.88           49        1.12\n",
        "560               Utah Jazz           43.74           38       -5.74\n",
        "561      Washington Wizards           45.47           46        0.53"
       ]
      }
     ],
     "prompt_number": 22
    },
    {
     "cell_type": "code",
     "collapsed": false,
     "input": [
      "teams_analysis_sort=teams_analysis.sort('Difference',ascending=False)"
     ],
     "language": "python",
     "metadata": {},
     "outputs": [],
     "prompt_number": 181
    },
    {
     "cell_type": "code",
     "collapsed": false,
     "input": [
      "teams_analysis_sort.to_csv(filepath+'teams_analysis.csv',index=False)"
     ],
     "language": "python",
     "metadata": {},
     "outputs": [],
     "prompt_number": 183
    },
    {
     "cell_type": "code",
     "collapsed": false,
     "input": [
      "#Gets importance of variables\n",
      "\n",
      "coef_adj=abs(linreg.coef_/sum(abs(linreg.coef_)))\n",
      "\n",
      "EFG_imp=coef_adj[0]+coef_adj[4]\n",
      "ORR_imp=coef_adj[1]+coef_adj[5]\n",
      "TOR_imp=coef_adj[2]+coef_adj[6]\n",
      "FTR_imp=coef_adj[3]+coef_adj[7]"
     ],
     "language": "python",
     "metadata": {},
     "outputs": [],
     "prompt_number": 38
    },
    {
     "cell_type": "code",
     "collapsed": false,
     "input": [
      "EFG_imp,ORR_imp,TOR_imp,FTR_imp"
     ],
     "language": "python",
     "metadata": {},
     "outputs": [
      {
       "metadata": {},
       "output_type": "pyout",
       "prompt_number": 40,
       "text": [
        "(0.41649840623717005,\n",
        " 0.14036173244166861,\n",
        " 0.35559197231238149,\n",
        " 0.087547889008779772)"
       ]
      }
     ],
     "prompt_number": 40
    },
    {
     "cell_type": "code",
     "collapsed": false,
     "input": [
      "#Correlations\n",
      "np.corrcoef(Four_Factors.Off_ORRate,Four_Factors.wins_82)[1][0]"
     ],
     "language": "python",
     "metadata": {},
     "outputs": [
      {
       "metadata": {},
       "output_type": "pyout",
       "prompt_number": 28,
       "text": [
        "-0.032975911002401777"
       ]
      }
     ],
     "prompt_number": 28
    },
    {
     "cell_type": "code",
     "collapsed": false,
     "input": [
      "np.corrcoef(Four_Factors.Def_Eff_FGperc,Four_Factors.wins_82)[1][0]"
     ],
     "language": "python",
     "metadata": {},
     "outputs": [
      {
       "metadata": {},
       "output_type": "pyout",
       "prompt_number": 27,
       "text": [
        "-0.57105525143738844"
       ]
      }
     ],
     "prompt_number": 27
    },
    {
     "cell_type": "code",
     "collapsed": false,
     "input": [
      "np.corrcoef(Four_Factors.Def_TORate,Four_Factors.wins_82)[1][0]"
     ],
     "language": "python",
     "metadata": {},
     "outputs": [
      {
       "metadata": {},
       "output_type": "pyout",
       "prompt_number": 30,
       "text": [
        "0.067765562666084675"
       ]
      }
     ],
     "prompt_number": 30
    },
    {
     "cell_type": "code",
     "collapsed": false,
     "input": [
      "np.corrcoef(Four_Factors.Def_FTRate,Four_Factors.wins_82)[1][0]"
     ],
     "language": "python",
     "metadata": {},
     "outputs": [
      {
       "metadata": {},
       "output_type": "pyout",
       "prompt_number": 32,
       "text": [
        "-0.24144137920450143"
       ]
      }
     ],
     "prompt_number": 32
    },
    {
     "cell_type": "code",
     "collapsed": false,
     "input": [],
     "language": "python",
     "metadata": {},
     "outputs": []
    }
   ],
   "metadata": {}
  }
 ]
}